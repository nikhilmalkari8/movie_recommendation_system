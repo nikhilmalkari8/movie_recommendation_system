{
 "cells": [   
  {
   "cell_type": "code",
   "execution_count": 1,
   "metadata": {},
   "outputs": [],
   "source": [
    "import warnings\n",
    "warnings.filterwarnings('ignore')"
   ]     
  },
  {
   "cell_type": "code",
   "execution_count": 2,
   "metadata": {},
   "outputs": [],
   "source": [
    "import pandas as pd\n",
    "import numpy as np\n",
    "import matplotlib.pyplot as plt\n",
    "\n",
    "\n",
    "movies = pd.read_csv('/home/maria/Django-Onboarding/recommendation/movies.csv')\n",
    "ratings = pd.read_csv('/home/maria/Django-Onboarding/recommendation/ratings.csv')\n",
    "\n",
    "\n",
    "dataset = pd.merge(movies, ratings, how='left', on='movieId')\n",
    "\n",
    "\n",
    "table = dataset.pivot_table(index='title', columns='userId', values='rating')\n"
   ]
  },
  {
   "cell_type": "code",
   "execution_count": 3,
   "metadata": {},
   "outputs": [
    {
     "data": {
      "text/plain": [
       "(10323, 668)"
      ]
     },
     "execution_count": 3,
     "metadata": {},
     "output_type": "execute_result"
    }
   ],
   "source": [
    "table.shape"
   ]
  },
  {
   "cell_type": "code",
   "execution_count": 4,
   "metadata": {},
   "outputs": [],
   "source": [
    "table = table.fillna(0)"
   ]
  },
  {
   "cell_type": "code",
   "execution_count": 5,
   "metadata": {},
   "outputs": [
    {
     "data": {
      "text/html": [
       "<div>\n",
       "<style scoped>\n",
       "    .dataframe tbody tr th:only-of-type {\n",
       "        vertical-align: middle;\n",
       "    }\n",
       "\n",
       "    .dataframe tbody tr th {\n",
       "        vertical-align: top;\n",
       "    }\n",
       "\n",
       "    .dataframe thead th {\n",
       "        text-align: right;\n",
       "    }\n",
       "</style>\n",
       "<table border=\"1\" class=\"dataframe\">\n",
       "  <thead>\n",
       "    <tr style=\"text-align: right;\">\n",
       "      <th>userId</th>\n",
       "      <th>1.0</th>\n",
       "      <th>2.0</th>\n",
       "      <th>3.0</th>\n",
       "      <th>4.0</th>\n",
       "      <th>5.0</th>\n",
       "      <th>6.0</th>\n",
       "      <th>7.0</th>\n",
       "      <th>8.0</th>\n",
       "      <th>9.0</th>\n",
       "      <th>10.0</th>\n",
       "      <th>...</th>\n",
       "      <th>659.0</th>\n",
       "      <th>660.0</th>\n",
       "      <th>661.0</th>\n",
       "      <th>662.0</th>\n",
       "      <th>663.0</th>\n",
       "      <th>664.0</th>\n",
       "      <th>665.0</th>\n",
       "      <th>666.0</th>\n",
       "      <th>667.0</th>\n",
       "      <th>668.0</th>\n",
       "    </tr>\n",
       "    <tr>\n",
       "      <th>title</th>\n",
       "      <th></th>\n",
       "      <th></th>\n",
       "      <th></th>\n",
       "      <th></th>\n",
       "      <th></th>\n",
       "      <th></th>\n",
       "      <th></th>\n",
       "      <th></th>\n",
       "      <th></th>\n",
       "      <th></th>\n",
       "      <th></th>\n",
       "      <th></th>\n",
       "      <th></th>\n",
       "      <th></th>\n",
       "      <th></th>\n",
       "      <th></th>\n",
       "      <th></th>\n",
       "      <th></th>\n",
       "      <th></th>\n",
       "      <th></th>\n",
       "      <th></th>\n",
       "    </tr>\n",
       "  </thead>\n",
       "  <tbody>\n",
       "    <tr>\n",
       "      <th>'71 (2014)</th>\n",
       "      <td>0.0</td>\n",
       "      <td>0.0</td>\n",
       "      <td>0.0</td>\n",
       "      <td>0.0</td>\n",
       "      <td>0.0</td>\n",
       "      <td>0.0</td>\n",
       "      <td>0.0</td>\n",
       "      <td>0.0</td>\n",
       "      <td>0.0</td>\n",
       "      <td>0.0</td>\n",
       "      <td>...</td>\n",
       "      <td>0.0</td>\n",
       "      <td>0.0</td>\n",
       "      <td>0.0</td>\n",
       "      <td>0.0</td>\n",
       "      <td>0.0</td>\n",
       "      <td>0.0</td>\n",
       "      <td>0.0</td>\n",
       "      <td>0.0</td>\n",
       "      <td>0.0</td>\n",
       "      <td>0.0</td>\n",
       "    </tr>\n",
       "    <tr>\n",
       "      <th>'Hellboy': The Seeds of Creation (2004)</th>\n",
       "      <td>0.0</td>\n",
       "      <td>0.0</td>\n",
       "      <td>0.0</td>\n",
       "      <td>0.0</td>\n",
       "      <td>0.0</td>\n",
       "      <td>0.0</td>\n",
       "      <td>0.0</td>\n",
       "      <td>0.0</td>\n",
       "      <td>0.0</td>\n",
       "      <td>0.0</td>\n",
       "      <td>...</td>\n",
       "      <td>0.0</td>\n",
       "      <td>0.0</td>\n",
       "      <td>0.0</td>\n",
       "      <td>0.0</td>\n",
       "      <td>0.0</td>\n",
       "      <td>0.0</td>\n",
       "      <td>0.0</td>\n",
       "      <td>0.0</td>\n",
       "      <td>0.0</td>\n",
       "      <td>0.0</td>\n",
       "    </tr>\n",
       "  </tbody>\n",
       "</table>\n",
       "<p>2 rows × 668 columns</p>\n",
       "</div>"
      ],
      "text/plain": [
       "userId                                   1.0    2.0    3.0    4.0    5.0    \\\n",
       "title                                                                        \n",
       "'71 (2014)                                 0.0    0.0    0.0    0.0    0.0   \n",
       "'Hellboy': The Seeds of Creation (2004)    0.0    0.0    0.0    0.0    0.0   \n",
       "\n",
       "userId                                   6.0    7.0    8.0    9.0    10.0   \\\n",
       "title                                                                        \n",
       "'71 (2014)                                 0.0    0.0    0.0    0.0    0.0   \n",
       "'Hellboy': The Seeds of Creation (2004)    0.0    0.0    0.0    0.0    0.0   \n",
       "\n",
       "userId                                   ...  659.0  660.0  661.0  662.0  \\\n",
       "title                                    ...                               \n",
       "'71 (2014)                               ...    0.0    0.0    0.0    0.0   \n",
       "'Hellboy': The Seeds of Creation (2004)  ...    0.0    0.0    0.0    0.0   \n",
       "\n",
       "userId                                   663.0  664.0  665.0  666.0  667.0  \\\n",
       "title                                                                        \n",
       "'71 (2014)                                 0.0    0.0    0.0    0.0    0.0   \n",
       "'Hellboy': The Seeds of Creation (2004)    0.0    0.0    0.0    0.0    0.0   \n",
       "\n",
       "userId                                   668.0  \n",
       "title                                           \n",
       "'71 (2014)                                 0.0  \n",
       "'Hellboy': The Seeds of Creation (2004)    0.0  \n",
       "\n",
       "[2 rows x 668 columns]"
      ]
     },
     "execution_count": 5,
     "metadata": {},
     "output_type": "execute_result"
    }
   ],
   "source": [
    "table.head(2)"
   ]
  },
  {
   "cell_type": "code",
   "execution_count": 6,
   "metadata": {},
   "outputs": [],
   "source": [
    "from scipy.sparse import csr_matrix\n",
    "\n",
    "matrix = csr_matrix(table.values)"
   ]
  },
  {
   "cell_type": "code",
   "execution_count": 7,
   "metadata": {},
   "outputs": [
    {
     "data": {
      "text/plain": [
       "184"
      ]
     },
     "execution_count": 7,
     "metadata": {},
     "output_type": "execute_result"
    }
   ],
   "source": [
    "user_query_index = np.random.choice(table.shape[1])\n",
    "user_query_index"
   ]
  },
  {
   "cell_type": "code",
   "execution_count": 8,
   "metadata": {},
   "outputs": [],
   "source": [
    "from sklearn.metrics.pairwise import linear_kernel\n",
    "\n",
    "cosine = linear_kernel(matrix, matrix)"
   ]
  },
  {
   "cell_type": "markdown",
   "metadata": {},
   "source": [
    "## Normal Recommendation with Cosine Matrix"
   ]
  },
  {
   "cell_type": "code",
   "execution_count": 9,
   "metadata": {
    "scrolled": false
   },
   "outputs": [
    {
     "name": "stdout",
     "output_type": "stream",
     "text": [
      "Recommendation for Above the Rim (1994) :\n",
      "\n"
     ]
    },
    {
     "data": {
      "text/plain": [
       "['Forrest Gump (1994)',\n",
       " 'Dances with Wolves (1990)',\n",
       " 'Dead Poets Society (1989)',\n",
       " 'Back to the Future (1985)',\n",
       " 'Field of Dreams (1989)',\n",
       " 'Top Gun (1986)',\n",
       " 'Platoon (1986)',\n",
       " 'Die Hard (1988)',\n",
       " 'Fugitive, The (1993)',\n",
       " 'Silence of the Lambs, The (1991)',\n",
       " 'Braveheart (1995)']"
      ]
     },
     "execution_count": 9,
     "metadata": {},
     "output_type": "execute_result"
    }
   ],
   "source": [
    "def recommendations(name, cosine = cosine):\n",
    "    recommended_list = []\n",
    "    idx = user_query_index\n",
    "    score = pd.Series(cosine[idx]).sort_values(ascending=False)\n",
    "    \n",
    "    top_10 = list(score.iloc[0:11].index)\n",
    "    for each in top_10:\n",
    "        recommended_list.append(list(table.index)[each])\n",
    "    return recommended_list\n",
    "\n",
    "print('Recommendation for {0} :\\n'.format(table.index[user_query_index]))\n",
    "recommendations(table.index[user_query_index])"
   ]
  },
  {
   "cell_type": "code",
   "execution_count": 10,
   "metadata": {},
   "outputs": [],
   "source": [
    "dataset = dataset.fillna(0)"
   ]
  },
  {
   "cell_type": "markdown",
   "metadata": {},
   "source": [
    "## Movies rated by a user with ID 3"
   ]
  },
  {
   "cell_type": "code",
   "execution_count": 11,
   "metadata": {},
   "outputs": [
    {
     "data": {
      "text/html": [
       "<div>\n",
       "<style scoped>\n",
       "    .dataframe tbody tr th:only-of-type {\n",
       "        vertical-align: middle;\n",
       "    }\n",
       "\n",
       "    .dataframe tbody tr th {\n",
       "        vertical-align: top;\n",
       "    }\n",
       "\n",
       "    .dataframe thead th {\n",
       "        text-align: right;\n",
       "    }\n",
       "</style>\n",
       "<table border=\"1\" class=\"dataframe\">\n",
       "  <thead>\n",
       "    <tr style=\"text-align: right;\">\n",
       "      <th></th>\n",
       "      <th>movieId</th>\n",
       "      <th>title</th>\n",
       "      <th>genres</th>\n",
       "      <th>userId</th>\n",
       "      <th>rating</th>\n",
       "      <th>timestamp</th>\n",
       "    </tr>\n",
       "  </thead>\n",
       "  <tbody>\n",
       "    <tr>\n",
       "      <th>394</th>\n",
       "      <td>5</td>\n",
       "      <td>Father of the Bride Part II (1995)</td>\n",
       "      <td>Comedy</td>\n",
       "      <td>3.0</td>\n",
       "      <td>3.0</td>\n",
       "      <td>841483936.0</td>\n",
       "    </tr>\n",
       "    <tr>\n",
       "      <th>570</th>\n",
       "      <td>7</td>\n",
       "      <td>Sabrina (1995)</td>\n",
       "      <td>Comedy|Romance</td>\n",
       "      <td>3.0</td>\n",
       "      <td>3.0</td>\n",
       "      <td>841484087.0</td>\n",
       "    </tr>\n",
       "    <tr>\n",
       "      <th>786</th>\n",
       "      <td>11</td>\n",
       "      <td>American President, The (1995)</td>\n",
       "      <td>Comedy|Drama|Romance</td>\n",
       "      <td>3.0</td>\n",
       "      <td>4.0</td>\n",
       "      <td>841483689.0</td>\n",
       "    </tr>\n",
       "    <tr>\n",
       "      <th>1254</th>\n",
       "      <td>21</td>\n",
       "      <td>Get Shorty (1995)</td>\n",
       "      <td>Comedy|Crime|Thriller</td>\n",
       "      <td>3.0</td>\n",
       "      <td>5.0</td>\n",
       "      <td>841483620.0</td>\n",
       "    </tr>\n",
       "    <tr>\n",
       "      <th>1893</th>\n",
       "      <td>34</td>\n",
       "      <td>Babe (1995)</td>\n",
       "      <td>Children|Drama</td>\n",
       "      <td>3.0</td>\n",
       "      <td>5.0</td>\n",
       "      <td>841483604.0</td>\n",
       "    </tr>\n",
       "    <tr>\n",
       "      <th>...</th>\n",
       "      <td>...</td>\n",
       "      <td>...</td>\n",
       "      <td>...</td>\n",
       "      <td>...</td>\n",
       "      <td>...</td>\n",
       "      <td>...</td>\n",
       "    </tr>\n",
       "    <tr>\n",
       "      <th>19399</th>\n",
       "      <td>613</td>\n",
       "      <td>Jane Eyre (1996)</td>\n",
       "      <td>Drama|Romance</td>\n",
       "      <td>3.0</td>\n",
       "      <td>4.0</td>\n",
       "      <td>848052408.0</td>\n",
       "    </tr>\n",
       "    <tr>\n",
       "      <th>19633</th>\n",
       "      <td>648</td>\n",
       "      <td>Mission: Impossible (1996)</td>\n",
       "      <td>Action|Adventure|Mystery|Thriller</td>\n",
       "      <td>3.0</td>\n",
       "      <td>4.0</td>\n",
       "      <td>841483842.0</td>\n",
       "    </tr>\n",
       "    <tr>\n",
       "      <th>20686</th>\n",
       "      <td>736</td>\n",
       "      <td>Twister (1996)</td>\n",
       "      <td>Action|Adventure|Romance|Thriller</td>\n",
       "      <td>3.0</td>\n",
       "      <td>3.0</td>\n",
       "      <td>841483822.0</td>\n",
       "    </tr>\n",
       "    <tr>\n",
       "      <th>22036</th>\n",
       "      <td>800</td>\n",
       "      <td>Lone Star (1996)</td>\n",
       "      <td>Drama|Mystery|Western</td>\n",
       "      <td>3.0</td>\n",
       "      <td>5.0</td>\n",
       "      <td>841484158.0</td>\n",
       "    </tr>\n",
       "    <tr>\n",
       "      <th>28187</th>\n",
       "      <td>1161</td>\n",
       "      <td>Tin Drum, The (Blechtrommel, Die) (1979)</td>\n",
       "      <td>Drama|War</td>\n",
       "      <td>3.0</td>\n",
       "      <td>4.0</td>\n",
       "      <td>848052408.0</td>\n",
       "    </tr>\n",
       "  </tbody>\n",
       "</table>\n",
       "<p>73 rows × 6 columns</p>\n",
       "</div>"
      ],
      "text/plain": [
       "       movieId                                     title  \\\n",
       "394          5        Father of the Bride Part II (1995)   \n",
       "570          7                            Sabrina (1995)   \n",
       "786         11            American President, The (1995)   \n",
       "1254        21                         Get Shorty (1995)   \n",
       "1893        34                               Babe (1995)   \n",
       "...        ...                                       ...   \n",
       "19399      613                          Jane Eyre (1996)   \n",
       "19633      648                Mission: Impossible (1996)   \n",
       "20686      736                            Twister (1996)   \n",
       "22036      800                          Lone Star (1996)   \n",
       "28187     1161  Tin Drum, The (Blechtrommel, Die) (1979)   \n",
       "\n",
       "                                  genres  userId  rating    timestamp  \n",
       "394                               Comedy     3.0     3.0  841483936.0  \n",
       "570                       Comedy|Romance     3.0     3.0  841484087.0  \n",
       "786                 Comedy|Drama|Romance     3.0     4.0  841483689.0  \n",
       "1254               Comedy|Crime|Thriller     3.0     5.0  841483620.0  \n",
       "1893                      Children|Drama     3.0     5.0  841483604.0  \n",
       "...                                  ...     ...     ...          ...  \n",
       "19399                      Drama|Romance     3.0     4.0  848052408.0  \n",
       "19633  Action|Adventure|Mystery|Thriller     3.0     4.0  841483842.0  \n",
       "20686  Action|Adventure|Romance|Thriller     3.0     3.0  841483822.0  \n",
       "22036              Drama|Mystery|Western     3.0     5.0  841484158.0  \n",
       "28187                          Drama|War     3.0     4.0  848052408.0  \n",
       "\n",
       "[73 rows x 6 columns]"
      ]
     },
     "execution_count": 11,
     "metadata": {},
     "output_type": "execute_result"
    }
   ],
   "source": [
    "dataset.loc[dataset['userId'] == 3]"
   ]
  },
  {
   "cell_type": "markdown",
   "metadata": {},
   "source": [
    "# Predicting a user's rating"
   ]
  },
  {
   "cell_type": "code",
   "execution_count": 12,
   "metadata": {},
   "outputs": [],
   "source": [
    "from surprise import SVD, Reader, Dataset\n",
    "from surprise.model_selection import cross_validate\n",
    "from sklearn.metrics.pairwise import linear_kernel"
   ]
  },
  {
   "cell_type": "code",
   "execution_count": 13,
   "metadata": {},
   "outputs": [],
   "source": [
    "svd = SVD()\n",
    "reader = Reader()\n",
    "cosine = linear_kernel(matrix, matrix)"
   ]
  },
  {
   "cell_type": "code",
   "execution_count": 14,
   "metadata": {},
   "outputs": [],
   "source": [
    "df = Dataset.load_from_df(dataset[['userId', 'movieId', 'rating']], reader)"
   ]
  },
  {
   "cell_type": "code",
   "execution_count": 15,
   "metadata": {},
   "outputs": [
    {
     "name": "stdout",
     "output_type": "stream",
     "text": [
      "Evaluating RMSE, MAE of algorithm SVD on 5 split(s).\n",
      "\n",
      "                  Fold 1  Fold 2  Fold 3  Fold 4  Fold 5  Mean    Std     \n",
      "RMSE (testset)    0.8701  0.8617  0.8713  0.8820  0.8629  0.8696  0.0073  \n",
      "MAE (testset)     0.6693  0.6650  0.6710  0.6810  0.6659  0.6704  0.0057  \n",
      "Fit time          4.05    4.33    4.21    3.98    3.93    4.10    0.15    \n",
      "Test time         0.17    0.19    0.10    0.16    0.16    0.16    0.03    \n"
     ]
    },
    {
     "data": {
      "text/plain": [
       "{'test_rmse': array([0.870133  , 0.86172072, 0.87134575, 0.88195249, 0.86287192]),\n",
       " 'test_mae': array([0.66931761, 0.66495364, 0.67098021, 0.6809685 , 0.66593514]),\n",
       " 'fit_time': (4.045032739639282,\n",
       "  4.32799506187439,\n",
       "  4.205575942993164,\n",
       "  3.97590970993042,\n",
       "  3.9289863109588623),\n",
       " 'test_time': (0.1657419204711914,\n",
       "  0.19350194931030273,\n",
       "  0.10323190689086914,\n",
       "  0.15925145149230957,\n",
       "  0.16277003288269043)}"
      ]
     },
     "execution_count": 15,
     "metadata": {},
     "output_type": "execute_result"
    }
   ],
   "source": [
    "cross_validate(svd, df, measures=['RMSE', 'MAE'], cv = 5, verbose= True)"
   ]
  },
  {
   "cell_type": "code",
   "execution_count": 16,
   "metadata": {},
   "outputs": [
    {
     "data": {
      "text/plain": [
       "<surprise.prediction_algorithms.matrix_factorization.SVD at 0x7ff71e3b2af0>"
      ]
     },
     "execution_count": 16,
     "metadata": {},
     "output_type": "execute_result"
    }
   ],
   "source": [
    "trainset = df.build_full_trainset()\n",
    "svd.fit(trainset)"
   ]
  },
  {
   "cell_type": "markdown",
   "metadata": {},
   "source": [
    "     Prediciting the rating of userId 1 for the movieId = user_query_index"
   ]
  },
  {
   "cell_type": "code",
   "execution_count": 17,
   "metadata": {},
   "outputs": [
    {
     "data": {
      "text/plain": [
       "Prediction(uid=1, iid=184, r_ui=3, est=3.6322938358894827, details={'was_impossible': False})"
      ]
     },
     "execution_count": 17,
     "metadata": {},
     "output_type": "execute_result"
    }
   ],
   "source": [
    "svd.predict(1, user_query_index, 3)"
   ]
  }
 ],
 "metadata": {
  "kernelspec": {
   "display_name": "chat",
   "language": "python",
   "name": "chat"
  },
  "language_info": {
   "codemirror_mode": {
    "name": "ipython",
    "version": 3
   },
   "file_extension": ".py",
   "mimetype": "text/x-python",
   "name": "python",
   "nbconvert_exporter": "python",
   "pygments_lexer": "ipython3",
   "version": "3.8.8"
  }
 },
 "nbformat": 4,
 "nbformat_minor": 4
}
