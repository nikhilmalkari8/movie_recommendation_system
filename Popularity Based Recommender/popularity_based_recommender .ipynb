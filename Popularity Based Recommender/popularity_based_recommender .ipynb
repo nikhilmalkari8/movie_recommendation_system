{
 "cells": [
  {
   "cell_type": "code",
   "execution_count": 1,
   "metadata": {},
   "outputs": [],
   "source": [
    "import warnings\n",
    "warnings.filterwarnings('ignore')"
   ]
  },
  {
   "cell_type": "code",
   "execution_count": 2,
   "metadata": {},
   "outputs": [],
   "source": [
    "import pandas as pd\n",
    "import numpy as np"
   ]
  },
  {
   "cell_type": "code",
   "execution_count": 3,
   "metadata": {},
   "outputs": [],
   "source": [
    "movies = pd.read_csv('/home/maria/Django-Onboarding/recommendation/data/movies.csv')\n",
    "ratings = pd.read_csv('/home/maria/Django-Onboarding/recommendation/data/ratings.csv')"
   ]
  },
  {
   "cell_type": "code",
   "execution_count": 4,
   "metadata": {},
   "outputs": [],
   "source": [
    "dataset = pd.merge(movies, ratings, how='left', on='movieId')\n",
    "dataset = dataset.fillna(0)"
   ]
  },
  {
   "cell_type": "code",
   "execution_count": 5,
   "metadata": {},
   "outputs": [
    {
     "data": {
      "text/html": [
       "<div>\n",
       "<style scoped>\n",
       "    .dataframe tbody tr th:only-of-type {\n",
       "        vertical-align: middle;\n",
       "    }\n",
       "\n",
       "    .dataframe tbody tr th {\n",
       "        vertical-align: top;\n",
       "    }\n",
       "\n",
       "    .dataframe thead th {\n",
       "        text-align: right;\n",
       "    }\n",
       "</style>\n",
       "<table border=\"1\" class=\"dataframe\">\n",
       "  <thead>\n",
       "    <tr style=\"text-align: right;\">\n",
       "      <th></th>\n",
       "      <th>movieId</th>\n",
       "      <th>title</th>\n",
       "      <th>genres</th>\n",
       "      <th>userId</th>\n",
       "      <th>rating</th>\n",
       "      <th>timestamp</th>\n",
       "    </tr>\n",
       "  </thead>\n",
       "  <tbody>\n",
       "    <tr>\n",
       "      <th>105337</th>\n",
       "      <td>146878</td>\n",
       "      <td>Le Grand Restaurant (1966)</td>\n",
       "      <td>Comedy</td>\n",
       "      <td>622.0</td>\n",
       "      <td>2.5</td>\n",
       "      <td>1.447515e+09</td>\n",
       "    </tr>\n",
       "    <tr>\n",
       "      <th>105338</th>\n",
       "      <td>148238</td>\n",
       "      <td>A Very Murray Christmas (2015)</td>\n",
       "      <td>Comedy</td>\n",
       "      <td>475.0</td>\n",
       "      <td>3.0</td>\n",
       "      <td>1.451213e+09</td>\n",
       "    </tr>\n",
       "    <tr>\n",
       "      <th>105339</th>\n",
       "      <td>148626</td>\n",
       "      <td>The Big Short (2015)</td>\n",
       "      <td>Drama</td>\n",
       "      <td>458.0</td>\n",
       "      <td>4.0</td>\n",
       "      <td>1.452015e+09</td>\n",
       "    </tr>\n",
       "    <tr>\n",
       "      <th>105340</th>\n",
       "      <td>148626</td>\n",
       "      <td>The Big Short (2015)</td>\n",
       "      <td>Drama</td>\n",
       "      <td>576.0</td>\n",
       "      <td>4.5</td>\n",
       "      <td>1.451688e+09</td>\n",
       "    </tr>\n",
       "    <tr>\n",
       "      <th>105341</th>\n",
       "      <td>148626</td>\n",
       "      <td>The Big Short (2015)</td>\n",
       "      <td>Drama</td>\n",
       "      <td>668.0</td>\n",
       "      <td>4.5</td>\n",
       "      <td>1.451148e+09</td>\n",
       "    </tr>\n",
       "    <tr>\n",
       "      <th>105342</th>\n",
       "      <td>149532</td>\n",
       "      <td>Marco Polo: One Hundred Eyes (2015)</td>\n",
       "      <td>(no genres listed)</td>\n",
       "      <td>475.0</td>\n",
       "      <td>4.0</td>\n",
       "      <td>1.451223e+09</td>\n",
       "    </tr>\n",
       "  </tbody>\n",
       "</table>\n",
       "</div>"
      ],
      "text/plain": [
       "        movieId                                title              genres  \\\n",
       "105337   146878           Le Grand Restaurant (1966)              Comedy   \n",
       "105338   148238       A Very Murray Christmas (2015)              Comedy   \n",
       "105339   148626                 The Big Short (2015)               Drama   \n",
       "105340   148626                 The Big Short (2015)               Drama   \n",
       "105341   148626                 The Big Short (2015)               Drama   \n",
       "105342   149532  Marco Polo: One Hundred Eyes (2015)  (no genres listed)   \n",
       "\n",
       "        userId  rating     timestamp  \n",
       "105337   622.0     2.5  1.447515e+09  \n",
       "105338   475.0     3.0  1.451213e+09  \n",
       "105339   458.0     4.0  1.452015e+09  \n",
       "105340   576.0     4.5  1.451688e+09  \n",
       "105341   668.0     4.5  1.451148e+09  \n",
       "105342   475.0     4.0  1.451223e+09  "
      ]
     },
     "execution_count": 5,
     "metadata": {},
     "output_type": "execute_result"
    }
   ],
   "source": [
    "dataset.tail(6)"
   ]
  },
  {
   "cell_type": "code",
   "execution_count": 6,
   "metadata": {},
   "outputs": [],
   "source": [
    "dataset = dataset.drop(['timestamp'], axis=1)"
   ]
  },
  {
   "cell_type": "code",
   "execution_count": 7,
   "metadata": {},
   "outputs": [
    {
     "name": "stdout",
     "output_type": "stream",
     "text": [
      "The total number of rows : 105343\n",
      "The total number of columns : 5\n"
     ]
    }
   ],
   "source": [
    "# shape of the data\n",
    "print('The total number of rows :', dataset.shape[0])\n",
    "print('The total number of columns :', dataset.shape[1])"
   ]
  },
  {
   "cell_type": "code",
   "execution_count": 8,
   "metadata": {},
   "outputs": [
    {
     "name": "stdout",
     "output_type": "stream",
     "text": [
      "Total unique users in the dataset 669\n",
      "Total unique movie in the dataset 10329\n"
     ]
    }
   ],
   "source": [
    "# unique users\n",
    "print('Total unique users in the dataset', dataset['userId'].nunique())\n",
    "\n",
    "# unique movie\n",
    "print('Total unique movie in the dataset', dataset['movieId'].nunique())"
   ]
  },
  {
   "cell_type": "code",
   "execution_count": 9,
   "metadata": {},
   "outputs": [],
   "source": [
    "import matplotlib.pyplot as plt\n",
    "import seaborn as sns\n",
    "from sklearn import metrics\n",
    "from sklearn.model_selection import train_test_split\n",
    "from sklearn.model_selection import KFold\n",
    "from sklearn.model_selection import cross_val_score\n",
    "from sklearn.decomposition import PCA\n",
    "from sklearn.preprocessing import StandardScaler\n",
    "from sklearn.metrics import mean_squared_error"
   ]
  },
  {
   "cell_type": "code",
   "execution_count": 10,
   "metadata": {},
   "outputs": [
    {
     "name": "stdout",
     "output_type": "stream",
     "text": [
      "Training set has 73740 rows and 5 columns\n",
      "Testing set has 31603 rows and 5 columns\n"
     ]
    }
   ],
   "source": [
    "train_data, test_data = train_test_split(dataset, test_size =.30, random_state=10)\n",
    "\n",
    "print(f'Training set has {train_data.shape[0]} rows and {train_data.shape[1]} columns')\n",
    "print(f'Testing set has {test_data.shape[0]} rows and {test_data.shape[1]} columns')"
   ]
  },
  {
   "cell_type": "markdown",
   "metadata": {},
   "source": [
    "# Popularity Based Model\n",
    "\n",
    "    The goal of this recommendation model is to first choose the movies with the highest ratings received. \n",
    "    Once the popular movies have been extracted, I fetch the movies that havent been rated by the given userId yet.\n",
    "    This model suggests those popular movies that have not been rated by an user.\n",
    "    Presumably if a movie is not rated  by the user it hasnot been seen y the user as well\n",
    "    \n",
    "    ^^"
   ]
  },
  {
   "cell_type": "code",
   "execution_count": 11,
   "metadata": {},
   "outputs": [],
   "source": [
    "class popularity_model():\n",
    "    def __init__(self, train_data, test_data, user_id, movie_id):\n",
    "        self.train_data = train_data\n",
    "        self.test_data = test_data\n",
    "        self.user_id = user_id\n",
    "        self.movie_id = movie_id\n",
    "        self.popularity_recommendation = None\n",
    "        \n",
    "    def fit(self):\n",
    "        # counting movies with more ratings from users\n",
    "        train_data_grouped = train_data.groupby([self.movie_id]).agg(self.user_id).count().reset_index()\n",
    "        train_data_grouped.rename(columns = {'userId': 'score'},inplace=True)\n",
    "    \n",
    "        # sorting the score column of train_data_grouped in ascending order\n",
    "        train_data_sort = train_data_grouped.sort_values(['score', self.movie_id], ascending = [0,1])\n",
    "        \n",
    "    \n",
    "        # recommendation rank based upon score\n",
    "        # ranking the highest score with 1 and onwards\n",
    "        train_data_sort['Rank'] = train_data_sort['score'].rank(ascending=0, method='first')\n",
    "        \n",
    "    \n",
    "        self.popularity_recommendation = train_data_sort\n",
    "        \n",
    "    def recommend(self, user_id, n=5):    \n",
    "        user_recommendations = self.popularity_recommendation\n",
    "        \n",
    "        #getting movies that are rated by the given userId \n",
    "        movies_already_rated_by_user = self.train_data.loc[self.train_data[self.user_id] == user_id][self.movie_id]  \n",
    "       \n",
    "        # recommending the movies with the highest ratings that havent been rated by the given user\n",
    "        # `~` refers to all the movieId that is not in the variable `movies_already_rated_by_user`\n",
    "        user_recommendations = user_recommendations[~user_recommendations[self.movie_id].isin(movies_already_rated_by_user)]\n",
    "        \n",
    "        \n",
    "        #Add user_id column for which the recommendations are being generated\n",
    "        user_recommendations['user_id'] = user_id\n",
    "    \n",
    "        #Bringing the user_id column to the front\n",
    "        cols = user_recommendations.columns.tolist()\n",
    "        user_recommendations = user_recommendations[cols]\n",
    "        return user_recommendations.head(n)\n",
    "    "
   ]
  },
  {
   "cell_type": "code",
   "execution_count": 12,
   "metadata": {},
   "outputs": [],
   "source": [
    "pr = popularity_model(train_data=train_data, test_data=test_data, user_id='userId', movie_id='movieId')"
   ]
  },
  {
   "cell_type": "code",
   "execution_count": 13,
   "metadata": {},
   "outputs": [],
   "source": [
    "# the variable pr has all the highest rated movies\n",
    "pr.fit()"
   ]
  },
  {
   "cell_type": "code",
   "execution_count": 14,
   "metadata": {},
   "outputs": [
    {
     "data": {
      "text/html": [
       "<div>\n",
       "<style scoped>\n",
       "    .dataframe tbody tr th:only-of-type {\n",
       "        vertical-align: middle;\n",
       "    }\n",
       "\n",
       "    .dataframe tbody tr th {\n",
       "        vertical-align: top;\n",
       "    }\n",
       "\n",
       "    .dataframe thead th {\n",
       "        text-align: right;\n",
       "    }\n",
       "</style>\n",
       "<table border=\"1\" class=\"dataframe\">\n",
       "  <thead>\n",
       "    <tr style=\"text-align: right;\">\n",
       "      <th></th>\n",
       "      <th>movieId</th>\n",
       "      <th>score</th>\n",
       "      <th>Rank</th>\n",
       "      <th>user_id</th>\n",
       "    </tr>\n",
       "  </thead>\n",
       "  <tbody>\n",
       "    <tr>\n",
       "      <th>249</th>\n",
       "      <td>296</td>\n",
       "      <td>229</td>\n",
       "      <td>1.0</td>\n",
       "      <td>628</td>\n",
       "    </tr>\n",
       "    <tr>\n",
       "      <th>304</th>\n",
       "      <td>356</td>\n",
       "      <td>212</td>\n",
       "      <td>3.0</td>\n",
       "      <td>628</td>\n",
       "    </tr>\n",
       "    <tr>\n",
       "      <th>410</th>\n",
       "      <td>480</td>\n",
       "      <td>205</td>\n",
       "      <td>5.0</td>\n",
       "      <td>628</td>\n",
       "    </tr>\n",
       "    <tr>\n",
       "      <th>453</th>\n",
       "      <td>527</td>\n",
       "      <td>175</td>\n",
       "      <td>8.0</td>\n",
       "      <td>628</td>\n",
       "    </tr>\n",
       "    <tr>\n",
       "      <th>1982</th>\n",
       "      <td>2571</td>\n",
       "      <td>175</td>\n",
       "      <td>9.0</td>\n",
       "      <td>628</td>\n",
       "    </tr>\n",
       "  </tbody>\n",
       "</table>\n",
       "</div>"
      ],
      "text/plain": [
       "      movieId  score  Rank  user_id\n",
       "249       296    229   1.0      628\n",
       "304       356    212   3.0      628\n",
       "410       480    205   5.0      628\n",
       "453       527    175   8.0      628\n",
       "1982     2571    175   9.0      628"
      ]
     },
     "execution_count": 14,
     "metadata": {},
     "output_type": "execute_result"
    }
   ],
   "source": [
    "result_pop_user1 = pr.recommend(628)\n",
    "result_pop_user1"
   ]
  },
  {
   "cell_type": "code",
   "execution_count": 15,
   "metadata": {},
   "outputs": [],
   "source": [
    "# train_data.groupby('movieId').agg('userId').count().reset_index(name='userIdCount')"
   ]
  }
 ],
 "metadata": {
  "kernelspec": {
   "display_name": "chat",
   "language": "python",
   "name": "chat"
  },
  "language_info": {
   "codemirror_mode": {
    "name": "ipython",
    "version": 3
   },
   "file_extension": ".py",
   "mimetype": "text/x-python",
   "name": "python",
   "nbconvert_exporter": "python",
   "pygments_lexer": "ipython3",
   "version": "3.8.8"
  }
 },
 "nbformat": 4,
 "nbformat_minor": 4
}
